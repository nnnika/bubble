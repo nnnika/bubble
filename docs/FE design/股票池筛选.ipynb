{
 "cells": [
  {
   "cell_type": "markdown",
   "id": "905e9e76",
   "metadata": {},
   "source": [
    "# 筛选条件\n",
    "\n",
    "\n",
    "1. roe_ttm > roe_ttm.quantile(0.1)\n",
    "   $$ = \\frac{2\\times 净利润TTM}{今年股东权益+去年股东权益} $$\n",
    "2. ocf_ttm_yoy > ocf_ttm_yoy.quantile(0.1)\n",
    "   $$ = \\frac{经营性现金流同比增长TTM_t}{经营性现金流同比增长TTM_{t-1}}$$\n",
    "3. cpx_sale_grw_yoy > cpx_sale_grw_yoy.quantile(0.1)\n",
    "   $$ = \\frac{a_{L1}}{\\frac{sales_{ttm}-a_{L2}}{sales_{L1}}} \\times \\frac{sales_{L1}}{a_{L2}} $$\n",
    "   其中：\n",
    "   * $a$ 为构建固定资产（无形+长期资产）支付的现金\n",
    "   * $sales$ 为营业收入   \n",
    "   * $L1$ 为TTM回溯1年\n",
    "   * $L2$ 为TTM回溯2年\n",
    "4. 在市，且超过180天\n",
    "5. 复权收盘价不为空\n",
    "6. 开放交易\n",
    "7. 不涨停\n",
    "8. 不是ST\n",
    "9. 研报数量不为空"
   ]
  },
  {
   "cell_type": "code",
   "execution_count": null,
   "id": "09aaafc7",
   "metadata": {},
   "outputs": [],
   "source": []
  }
 ],
 "metadata": {
  "hide_input": false,
  "kernelspec": {
   "display_name": "Python 3 (ipykernel)",
   "language": "python",
   "name": "python3"
  },
  "language_info": {
   "codemirror_mode": {
    "name": "ipython",
    "version": 3
   },
   "file_extension": ".py",
   "mimetype": "text/x-python",
   "name": "python",
   "nbconvert_exporter": "python",
   "pygments_lexer": "ipython3",
   "version": "3.7.3"
  },
  "toc": {
   "base_numbering": 1,
   "nav_menu": {},
   "number_sections": true,
   "sideBar": true,
   "skip_h1_title": false,
   "title_cell": "Table of Contents",
   "title_sidebar": "Contents",
   "toc_cell": false,
   "toc_position": {},
   "toc_section_display": true,
   "toc_window_display": false
  }
 },
 "nbformat": 4,
 "nbformat_minor": 5
}
